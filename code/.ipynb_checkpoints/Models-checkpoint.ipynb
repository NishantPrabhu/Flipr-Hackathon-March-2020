{
 "cells": [
  {
   "cell_type": "code",
   "execution_count": 1,
   "metadata": {},
   "outputs": [],
   "source": [
    "import numpy as np \n",
    "import pandas as pd\n",
    "from sklearn.model_selection import train_test_split\n",
    "from sklearn.model_selection import StratifiedKFold\n",
    "from sklearn.metrics import roc_auc_score, log_loss\n",
    "import lightgbm as lgb\n",
    "\n",
    "from IPython.display import clear_output\n",
    "from warnings import simplefilter\n",
    "simplefilter(action='ignore', category=UserWarning)"
   ]
  },
  {
   "cell_type": "code",
   "execution_count": 2,
   "metadata": {},
   "outputs": [],
   "source": [
    "# Import data\n",
    "train = pd.read_csv('.././mod_data/train.csv')\n",
    "test = pd.read_csv('.././mod_data/test.csv')"
   ]
  },
  {
   "cell_type": "code",
   "execution_count": 3,
   "metadata": {},
   "outputs": [],
   "source": [
    "# Drop name column\n",
    "train = train.drop('Name', axis=1)\n",
    "test = test.drop('Name', axis=1)\n",
    "\n",
    "# Convert Infect_Prob to binary with 50% threshold\n",
    "train['Infect_Prob'] = [1 if i >= 50 else 0 for i in train['Infect_Prob'].values]"
   ]
  },
  {
   "cell_type": "code",
   "execution_count": 4,
   "metadata": {},
   "outputs": [
    {
     "data": {
      "text/plain": [
       "0    6569\n",
       "1    4145\n",
       "Name: Infect_Prob, dtype: int64"
      ]
     },
     "execution_count": 4,
     "metadata": {},
     "output_type": "execute_result"
    }
   ],
   "source": [
    "# Is the data imbalanced?\n",
    "train['Infect_Prob'].value_counts()\n",
    "\n",
    "# Nah, we're good"
   ]
  },
  {
   "cell_type": "code",
   "execution_count": 5,
   "metadata": {},
   "outputs": [],
   "source": [
    "# Split data into train and hold-out and cross-validate on train\n",
    "drop_cols = ['people_ID']\n",
    "X, y = train.drop(drop_cols + ['Infect_Prob'], axis=1), train['Infect_Prob']\n",
    "X_cv, X_hold, y_cv, y_hold = train_test_split(X, y, test_size=0.2, \n",
    "                                              shuffle=True, stratify=y)\n",
    "\n",
    "cat_features = ['Region', 'Gender', 'Designation', 'Married', 'Occupation',\n",
    "                'Mode_transport', 'comorbidity', 'Pulmonary score', 'cardiological pressure']\n",
    "\n",
    "# Define parameters for lightgbm\n",
    "lgb_params = {\n",
    "    'objective': 'binary',\n",
    "    'metric': 'auc',\n",
    "    'learning_rate': 0.001,\n",
    "    'max_depth': 11,\n",
    "    'num_leaves': 31,\n",
    "    'bagging_fraction': 0.5,\n",
    "    'feature_fraction': 1.0,\n",
    "    'random_state': 42,\n",
    "    'verbosity': 0\n",
    "}\n",
    "\n",
    "# Cross validate on train with lgb classifier\n",
    "hold_auc_scores = []\n",
    "hold_logloss_scores = []\n",
    "\n",
    "skf = StratifiedKFold(n_splits=5, shuffle=True, random_state=42)\n",
    "for train_idx, val_idx in skf.split(X_cv, y_cv):\n",
    "    X_train, X_val = X_cv[X_cv.index.isin(train_idx)], X_cv[X_cv.index.isin(val_idx)]\n",
    "    y_train, y_val = y_cv[y_cv.index.isin(train_idx)], y_cv[y_cv.index.isin(val_idx)]\n",
    "    \n",
    "    d_train = lgb.Dataset(data=X_train, label=y_train, categorical_feature=cat_features)\n",
    "    d_val = lgb.Dataset(data=X_val, label=y_val, categorical_feature=cat_features)\n",
    "    \n",
    "    clf = lgb.train(\n",
    "        lgb_params, d_train,\n",
    "        valid_sets = [d_train, d_val],\n",
    "        num_boost_round = 5000,\n",
    "    )\n",
    "    \n",
    "    hold_probs = clf.predict(X_hold)\n",
    "    hold_preds = np.array([1 if i>=0.5 else 0 for i in hold_probs])\n",
    "    hold_auc_scores.append(roc_auc_score(y_hold, hold_preds))\n",
    "    hold_logloss_scores.append(log_loss(y_hold, hold_probs))\n",
    "    \n",
    "    clear_output()"
   ]
  },
  {
   "cell_type": "code",
   "execution_count": 6,
   "metadata": {},
   "outputs": [
    {
     "name": "stdout",
     "output_type": "stream",
     "text": [
      "Average AUC score: 0.92235\n",
      "Average Logloss: 0.19562\n"
     ]
    }
   ],
   "source": [
    "# Average scores\n",
    "\n",
    "print(\"Average AUC score: {:.5f}\".format(np.mean(hold_auc_scores)))\n",
    "print(\"Average Logloss: {:.5f}\".format(np.mean(hold_logloss_scores)))"
   ]
  },
  {
   "cell_type": "markdown",
   "metadata": {},
   "source": [
    "## Predict for test data"
   ]
  },
  {
   "cell_type": "code",
   "execution_count": 7,
   "metadata": {},
   "outputs": [],
   "source": [
    "test_ids = test['people_ID'].values\n",
    "X_test = test.drop(drop_cols, axis=1)\n",
    "\n",
    "test_probs = clf.predict(X_test)\n",
    "sub = pd.DataFrame(np.vstack((test_ids, test_probs*100.0)).T, \n",
    "                   columns=['people_ID', 'Infect_Prob'])\n",
    "sub.to_csv('.././submission/sub1_LGBM.csv', index=False)"
   ]
  }
 ],
 "metadata": {
  "kernelspec": {
   "display_name": "Python 3",
   "language": "python",
   "name": "python3"
  },
  "language_info": {
   "codemirror_mode": {
    "name": "ipython",
    "version": 3
   },
   "file_extension": ".py",
   "mimetype": "text/x-python",
   "name": "python",
   "nbconvert_exporter": "python",
   "pygments_lexer": "ipython3",
   "version": "3.6.9"
  }
 },
 "nbformat": 4,
 "nbformat_minor": 2
}
